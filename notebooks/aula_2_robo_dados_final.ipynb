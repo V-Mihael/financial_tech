{
 "cells": [
  {
   "cell_type": "markdown",
   "id": "9fb80227-70ab-440b-8d20-2ab383e724ab",
   "metadata": {},
   "source": [
    "### Documentação\n",
    "\n",
    "https://docs.coingecko.com/v3.0.1/reference/coins-id-market-chart\n",
    "\n",
    "### Chave API\n",
    "\n",
    "https://www.coingecko.com/pt/developers/painel"
   ]
  },
  {
   "cell_type": "code",
   "execution_count": 14,
   "id": "38b695d5-d2e1-48bc-bc6f-c75bc99c1f21",
   "metadata": {},
   "outputs": [],
   "source": [
    "import os\n",
    "import requests\n",
    "import pandas as pd\n",
    "import datetime\n",
    "import time"
   ]
  },
  {
   "cell_type": "code",
   "execution_count": 15,
   "id": "048bf2a4",
   "metadata": {},
   "outputs": [
    {
     "data": {
      "text/plain": [
       "'CG-UMv9h5QXKsaS9xkjVsmEH6CS'"
      ]
     },
     "execution_count": 15,
     "metadata": {},
     "output_type": "execute_result"
    }
   ],
   "source": [
    "from dotenv import load_dotenv\n",
    "import os\n",
    "from pathlib import Path\n",
    "\n",
    "# Get the parent directory of the current notebook\n",
    "parent_dir = Path().absolute().parent\n",
    "\n",
    "# Load .env from parent directory\n",
    "load_dotenv(os.path.join(parent_dir, '.env'))\n",
    "\n",
    "# Now you can access your environment variables\n",
    "api_key = os.environ.get('API_KEY')\n",
    "api_key"
   ]
  },
  {
   "cell_type": "code",
   "execution_count": 16,
   "id": "38c5c340-d2a1-4833-85f1-48a9f513660a",
   "metadata": {},
   "outputs": [],
   "source": [
    "headers = {\"x-cg-demo-api-key\": api_key}"
   ]
  },
  {
   "cell_type": "code",
   "execution_count": 17,
   "id": "8325fe9b-12da-48d4-b002-1684f9729709",
   "metadata": {},
   "outputs": [],
   "source": [
    "criptos = ['bitcoin', 'ethereum', 'solana', 'immutable-x', 'pendle', \n",
    "           'jito-staked-sol', 'render-token']"
   ]
  },
  {
   "cell_type": "code",
   "execution_count": 18,
   "id": "c2792b5b-7971-47f7-a779-af078e3d1dda",
   "metadata": {},
   "outputs": [],
   "source": [
    "params = {\n",
    "        'vs_currency': 'usd',\n",
    "        'days': 365\n",
    "    }"
   ]
  },
  {
   "cell_type": "code",
   "execution_count": 20,
   "id": "86354e31-660f-403c-a97c-0e2e009da5f4",
   "metadata": {},
   "outputs": [
    {
     "name": "stdout",
     "output_type": "stream",
     "text": [
      "bitcoin\n",
      "ethereum\n",
      "solana\n",
      "immutable-x\n"
     ]
    },
    {
     "name": "stdout",
     "output_type": "stream",
     "text": [
      "pendle\n",
      "jito-staked-sol\n",
      "render-token\n"
     ]
    }
   ],
   "source": [
    "lista_tabelas = []\n",
    "\n",
    "for cripto in criptos:\n",
    "\n",
    "    print(cripto)\n",
    "\n",
    "    url = f\"https://api.coingecko.com/api/v3/coins/{cripto}/market_chart\"\n",
    "    \n",
    "    resposta = requests.get(url, params=params, headers=headers)\n",
    "    \n",
    "    dados = resposta.json()\n",
    "             \n",
    "    df_price = pd.DataFrame(dados['prices'], columns=['timestamp', 'price'])\n",
    "    df_volume = pd.DataFrame(dados['total_volumes'], columns=['timestamp', 'volume'])\n",
    "    df_final = df_price.merge(df_volume, on = \"timestamp\")\n",
    "    df_final['timestamp'] = pd.to_datetime(df_final['timestamp'], unit='ms')\n",
    "    df_final['crypto'] = cripto\n",
    "    lista_tabelas.append(df_final)"
   ]
  },
  {
   "cell_type": "code",
   "execution_count": 21,
   "id": "b35eda1a-7ab8-4f3f-b9bf-cbb885486b4a",
   "metadata": {},
   "outputs": [],
   "source": [
    "dados_historicos = pd.concat(lista_tabelas)"
   ]
  },
  {
   "cell_type": "code",
   "execution_count": 22,
   "id": "1e0a53f0-48fe-455b-a3a5-a3927b0f9a97",
   "metadata": {},
   "outputs": [
    {
     "data": {
      "text/html": [
       "<div>\n",
       "<style scoped>\n",
       "    .dataframe tbody tr th:only-of-type {\n",
       "        vertical-align: middle;\n",
       "    }\n",
       "\n",
       "    .dataframe tbody tr th {\n",
       "        vertical-align: top;\n",
       "    }\n",
       "\n",
       "    .dataframe thead th {\n",
       "        text-align: right;\n",
       "    }\n",
       "</style>\n",
       "<table border=\"1\" class=\"dataframe\">\n",
       "  <thead>\n",
       "    <tr style=\"text-align: right;\">\n",
       "      <th></th>\n",
       "      <th>timestamp</th>\n",
       "      <th>price</th>\n",
       "      <th>volume</th>\n",
       "      <th>crypto</th>\n",
       "    </tr>\n",
       "  </thead>\n",
       "  <tbody>\n",
       "    <tr>\n",
       "      <th>0</th>\n",
       "      <td>2024-02-05 00:00:00</td>\n",
       "      <td>42599.359971</td>\n",
       "      <td>1.125081e+10</td>\n",
       "      <td>bitcoin</td>\n",
       "    </tr>\n",
       "    <tr>\n",
       "      <th>1</th>\n",
       "      <td>2024-02-06 00:00:00</td>\n",
       "      <td>42648.456921</td>\n",
       "      <td>1.868228e+10</td>\n",
       "      <td>bitcoin</td>\n",
       "    </tr>\n",
       "    <tr>\n",
       "      <th>2</th>\n",
       "      <td>2024-02-07 00:00:00</td>\n",
       "      <td>43087.787408</td>\n",
       "      <td>1.713111e+10</td>\n",
       "      <td>bitcoin</td>\n",
       "    </tr>\n",
       "    <tr>\n",
       "      <th>3</th>\n",
       "      <td>2024-02-08 00:00:00</td>\n",
       "      <td>44247.415415</td>\n",
       "      <td>2.120088e+10</td>\n",
       "      <td>bitcoin</td>\n",
       "    </tr>\n",
       "    <tr>\n",
       "      <th>4</th>\n",
       "      <td>2024-02-09 00:00:00</td>\n",
       "      <td>45338.271190</td>\n",
       "      <td>2.770961e+10</td>\n",
       "      <td>bitcoin</td>\n",
       "    </tr>\n",
       "    <tr>\n",
       "      <th>...</th>\n",
       "      <td>...</td>\n",
       "      <td>...</td>\n",
       "      <td>...</td>\n",
       "      <td>...</td>\n",
       "    </tr>\n",
       "    <tr>\n",
       "      <th>361</th>\n",
       "      <td>2025-01-31 00:00:00</td>\n",
       "      <td>5.877834</td>\n",
       "      <td>1.536220e+08</td>\n",
       "      <td>render-token</td>\n",
       "    </tr>\n",
       "    <tr>\n",
       "      <th>362</th>\n",
       "      <td>2025-02-01 00:00:00</td>\n",
       "      <td>5.845628</td>\n",
       "      <td>1.258172e+08</td>\n",
       "      <td>render-token</td>\n",
       "    </tr>\n",
       "    <tr>\n",
       "      <th>363</th>\n",
       "      <td>2025-02-02 00:00:00</td>\n",
       "      <td>5.397424</td>\n",
       "      <td>1.214851e+08</td>\n",
       "      <td>render-token</td>\n",
       "    </tr>\n",
       "    <tr>\n",
       "      <th>364</th>\n",
       "      <td>2025-02-03 00:00:00</td>\n",
       "      <td>4.674684</td>\n",
       "      <td>2.597897e+08</td>\n",
       "      <td>render-token</td>\n",
       "    </tr>\n",
       "    <tr>\n",
       "      <th>365</th>\n",
       "      <td>2025-02-03 23:55:41</td>\n",
       "      <td>5.034458</td>\n",
       "      <td>4.952888e+08</td>\n",
       "      <td>render-token</td>\n",
       "    </tr>\n",
       "  </tbody>\n",
       "</table>\n",
       "<p>2562 rows × 4 columns</p>\n",
       "</div>"
      ],
      "text/plain": [
       "              timestamp         price        volume        crypto\n",
       "0   2024-02-05 00:00:00  42599.359971  1.125081e+10       bitcoin\n",
       "1   2024-02-06 00:00:00  42648.456921  1.868228e+10       bitcoin\n",
       "2   2024-02-07 00:00:00  43087.787408  1.713111e+10       bitcoin\n",
       "3   2024-02-08 00:00:00  44247.415415  2.120088e+10       bitcoin\n",
       "4   2024-02-09 00:00:00  45338.271190  2.770961e+10       bitcoin\n",
       "..                  ...           ...           ...           ...\n",
       "361 2025-01-31 00:00:00      5.877834  1.536220e+08  render-token\n",
       "362 2025-02-01 00:00:00      5.845628  1.258172e+08  render-token\n",
       "363 2025-02-02 00:00:00      5.397424  1.214851e+08  render-token\n",
       "364 2025-02-03 00:00:00      4.674684  2.597897e+08  render-token\n",
       "365 2025-02-03 23:55:41      5.034458  4.952888e+08  render-token\n",
       "\n",
       "[2562 rows x 4 columns]"
      ]
     },
     "execution_count": 22,
     "metadata": {},
     "output_type": "execute_result"
    }
   ],
   "source": [
    "dados_historicos"
   ]
  },
  {
   "cell_type": "markdown",
   "id": "7cd351f8-97ca-47cf-abf1-59c2bbf19aff",
   "metadata": {},
   "source": [
    "# Dados OHLC"
   ]
  },
  {
   "cell_type": "code",
   "execution_count": 23,
   "id": "a5e56076-64e8-4504-9513-4dff56e2da21",
   "metadata": {},
   "outputs": [],
   "source": [
    "params = {\n",
    "    \"vs_currency\": \"usd\",  # Moeda de comparação (ex.: USD, EUR)\n",
    "    \"days\": 1           # Período: 1, 7, 14, 30, 90, 180, 365 ou \"max\"\n",
    "}"
   ]
  },
  {
   "cell_type": "code",
   "execution_count": 24,
   "id": "5c44d912-9cc0-449d-aaff-110e74f1ae08",
   "metadata": {},
   "outputs": [
    {
     "name": "stdout",
     "output_type": "stream",
     "text": [
      "bitcoin\n",
      "ethereum\n",
      "solana\n",
      "immutable-x\n",
      "pendle\n",
      "jito-staked-sol\n",
      "render-token\n"
     ]
    }
   ],
   "source": [
    "lista_tabelas = []\n",
    "\n",
    "for cripto in criptos:\n",
    "\n",
    "    print(cripto)\n",
    "\n",
    "    url = f\"https://api.coingecko.com/api/v3/coins/{cripto}/ohlc\"\n",
    "    \n",
    "    resposta = requests.get(url, params=params, headers=headers)\n",
    "    \n",
    "    dados = resposta.json()\n",
    "             \n",
    "    df = pd.DataFrame(dados, columns=['timestamp', 'open', \"high\", \"low\", \"close\"])\n",
    "    df['timestamp'] = pd.to_datetime(df['timestamp'], unit='ms')\n",
    "    df['crypto'] = cripto\n",
    "    lista_tabelas.append(df)"
   ]
  },
  {
   "cell_type": "code",
   "execution_count": 25,
   "id": "8698218a-193c-4832-adbb-ba511f4c18c3",
   "metadata": {},
   "outputs": [
    {
     "data": {
      "text/html": [
       "<div>\n",
       "<style scoped>\n",
       "    .dataframe tbody tr th:only-of-type {\n",
       "        vertical-align: middle;\n",
       "    }\n",
       "\n",
       "    .dataframe tbody tr th {\n",
       "        vertical-align: top;\n",
       "    }\n",
       "\n",
       "    .dataframe thead th {\n",
       "        text-align: right;\n",
       "    }\n",
       "</style>\n",
       "<table border=\"1\" class=\"dataframe\">\n",
       "  <thead>\n",
       "    <tr style=\"text-align: right;\">\n",
       "      <th></th>\n",
       "      <th>timestamp</th>\n",
       "      <th>open</th>\n",
       "      <th>high</th>\n",
       "      <th>low</th>\n",
       "      <th>close</th>\n",
       "      <th>crypto</th>\n",
       "    </tr>\n",
       "  </thead>\n",
       "  <tbody>\n",
       "    <tr>\n",
       "      <th>0</th>\n",
       "      <td>2025-02-03 00:00:00</td>\n",
       "      <td>96873.00</td>\n",
       "      <td>97568.00</td>\n",
       "      <td>96873.00</td>\n",
       "      <td>97568.00</td>\n",
       "      <td>bitcoin</td>\n",
       "    </tr>\n",
       "    <tr>\n",
       "      <th>1</th>\n",
       "      <td>2025-02-03 00:30:00</td>\n",
       "      <td>97652.00</td>\n",
       "      <td>97652.00</td>\n",
       "      <td>96497.00</td>\n",
       "      <td>96497.00</td>\n",
       "      <td>bitcoin</td>\n",
       "    </tr>\n",
       "    <tr>\n",
       "      <th>2</th>\n",
       "      <td>2025-02-03 01:00:00</td>\n",
       "      <td>97144.00</td>\n",
       "      <td>97144.00</td>\n",
       "      <td>95920.00</td>\n",
       "      <td>96679.00</td>\n",
       "      <td>bitcoin</td>\n",
       "    </tr>\n",
       "    <tr>\n",
       "      <th>3</th>\n",
       "      <td>2025-02-03 01:30:00</td>\n",
       "      <td>96653.00</td>\n",
       "      <td>96653.00</td>\n",
       "      <td>95064.00</td>\n",
       "      <td>95064.00</td>\n",
       "      <td>bitcoin</td>\n",
       "    </tr>\n",
       "    <tr>\n",
       "      <th>4</th>\n",
       "      <td>2025-02-03 02:00:00</td>\n",
       "      <td>95138.00</td>\n",
       "      <td>95138.00</td>\n",
       "      <td>92460.00</td>\n",
       "      <td>92460.00</td>\n",
       "      <td>bitcoin</td>\n",
       "    </tr>\n",
       "    <tr>\n",
       "      <th>...</th>\n",
       "      <td>...</td>\n",
       "      <td>...</td>\n",
       "      <td>...</td>\n",
       "      <td>...</td>\n",
       "      <td>...</td>\n",
       "      <td>...</td>\n",
       "    </tr>\n",
       "    <tr>\n",
       "      <th>43</th>\n",
       "      <td>2025-02-03 21:30:00</td>\n",
       "      <td>4.94</td>\n",
       "      <td>4.99</td>\n",
       "      <td>4.94</td>\n",
       "      <td>4.99</td>\n",
       "      <td>render-token</td>\n",
       "    </tr>\n",
       "    <tr>\n",
       "      <th>44</th>\n",
       "      <td>2025-02-03 22:00:00</td>\n",
       "      <td>5.00</td>\n",
       "      <td>5.10</td>\n",
       "      <td>5.00</td>\n",
       "      <td>5.10</td>\n",
       "      <td>render-token</td>\n",
       "    </tr>\n",
       "    <tr>\n",
       "      <th>45</th>\n",
       "      <td>2025-02-03 22:30:00</td>\n",
       "      <td>5.11</td>\n",
       "      <td>5.17</td>\n",
       "      <td>5.11</td>\n",
       "      <td>5.17</td>\n",
       "      <td>render-token</td>\n",
       "    </tr>\n",
       "    <tr>\n",
       "      <th>46</th>\n",
       "      <td>2025-02-03 23:00:00</td>\n",
       "      <td>5.19</td>\n",
       "      <td>5.19</td>\n",
       "      <td>5.13</td>\n",
       "      <td>5.13</td>\n",
       "      <td>render-token</td>\n",
       "    </tr>\n",
       "    <tr>\n",
       "      <th>47</th>\n",
       "      <td>2025-02-03 23:30:00</td>\n",
       "      <td>5.11</td>\n",
       "      <td>5.11</td>\n",
       "      <td>5.08</td>\n",
       "      <td>5.08</td>\n",
       "      <td>render-token</td>\n",
       "    </tr>\n",
       "  </tbody>\n",
       "</table>\n",
       "<p>336 rows × 6 columns</p>\n",
       "</div>"
      ],
      "text/plain": [
       "             timestamp      open      high       low     close        crypto\n",
       "0  2025-02-03 00:00:00  96873.00  97568.00  96873.00  97568.00       bitcoin\n",
       "1  2025-02-03 00:30:00  97652.00  97652.00  96497.00  96497.00       bitcoin\n",
       "2  2025-02-03 01:00:00  97144.00  97144.00  95920.00  96679.00       bitcoin\n",
       "3  2025-02-03 01:30:00  96653.00  96653.00  95064.00  95064.00       bitcoin\n",
       "4  2025-02-03 02:00:00  95138.00  95138.00  92460.00  92460.00       bitcoin\n",
       "..                 ...       ...       ...       ...       ...           ...\n",
       "43 2025-02-03 21:30:00      4.94      4.99      4.94      4.99  render-token\n",
       "44 2025-02-03 22:00:00      5.00      5.10      5.00      5.10  render-token\n",
       "45 2025-02-03 22:30:00      5.11      5.17      5.11      5.17  render-token\n",
       "46 2025-02-03 23:00:00      5.19      5.19      5.13      5.13  render-token\n",
       "47 2025-02-03 23:30:00      5.11      5.11      5.08      5.08  render-token\n",
       "\n",
       "[336 rows x 6 columns]"
      ]
     },
     "execution_count": 25,
     "metadata": {},
     "output_type": "execute_result"
    }
   ],
   "source": [
    "dados_ohlc = pd.concat(lista_tabelas)\n",
    "dados_ohlc"
   ]
  },
  {
   "cell_type": "code",
   "execution_count": null,
   "id": "3350d467-83c8-4577-afff-268e496c41d5",
   "metadata": {},
   "outputs": [],
   "source": []
  },
  {
   "cell_type": "code",
   "execution_count": null,
   "id": "7bd06149-0370-4045-8065-46f3921108a6",
   "metadata": {},
   "outputs": [],
   "source": []
  },
  {
   "cell_type": "code",
   "execution_count": null,
   "id": "8ff6adb0-670e-42cb-bd3a-a34c9f44d952",
   "metadata": {},
   "outputs": [],
   "source": []
  },
  {
   "cell_type": "code",
   "execution_count": null,
   "id": "b7723630-9844-4a6d-ac90-cf232d06d3aa",
   "metadata": {},
   "outputs": [],
   "source": []
  },
  {
   "cell_type": "code",
   "execution_count": null,
   "id": "563b4266-1ee8-4fba-a748-cc3ac3ee4a6a",
   "metadata": {},
   "outputs": [],
   "source": []
  },
  {
   "cell_type": "code",
   "execution_count": null,
   "id": "04faaf58-9259-495a-9e40-d73f2be4298d",
   "metadata": {},
   "outputs": [],
   "source": []
  },
  {
   "cell_type": "code",
   "execution_count": null,
   "id": "27224222-9d10-47bd-81b9-bacccd689ce6",
   "metadata": {},
   "outputs": [],
   "source": []
  },
  {
   "cell_type": "code",
   "execution_count": null,
   "id": "a4c2c680-6ad5-412c-af21-97539fe7a237",
   "metadata": {},
   "outputs": [],
   "source": []
  },
  {
   "cell_type": "code",
   "execution_count": null,
   "id": "8c744ba6-d098-40ac-9158-b44e925218fa",
   "metadata": {},
   "outputs": [],
   "source": []
  },
  {
   "cell_type": "code",
   "execution_count": null,
   "id": "7854caa8-3b11-4ae8-b15e-9f71ae78e9a6",
   "metadata": {},
   "outputs": [],
   "source": []
  },
  {
   "cell_type": "code",
   "execution_count": null,
   "id": "0085f80e-060b-40ab-934d-2042038a4ea7",
   "metadata": {},
   "outputs": [],
   "source": []
  },
  {
   "cell_type": "code",
   "execution_count": null,
   "id": "63f4e68d-4c95-41f9-abee-9c1633e18162",
   "metadata": {},
   "outputs": [],
   "source": []
  },
  {
   "cell_type": "code",
   "execution_count": null,
   "id": "82fe2dc2-0fa1-48e7-9722-45d43b96b8f9",
   "metadata": {},
   "outputs": [],
   "source": []
  },
  {
   "cell_type": "code",
   "execution_count": null,
   "id": "6a9f1074-931e-4ff7-b81e-133720cd5fe0",
   "metadata": {},
   "outputs": [],
   "source": []
  },
  {
   "cell_type": "code",
   "execution_count": null,
   "id": "33baab43-718e-46c9-9cd7-bc472dd5c0fe",
   "metadata": {},
   "outputs": [],
   "source": []
  },
  {
   "cell_type": "code",
   "execution_count": null,
   "id": "b9bd84e6-1d07-408b-9a8b-53d41773c8e9",
   "metadata": {},
   "outputs": [],
   "source": []
  },
  {
   "cell_type": "code",
   "execution_count": null,
   "id": "a97da4ac-30de-42bb-8739-619a3ee3c6cb",
   "metadata": {},
   "outputs": [],
   "source": []
  },
  {
   "cell_type": "code",
   "execution_count": null,
   "id": "e39667bb-ceb4-4333-ab0f-41bb02ae65ca",
   "metadata": {},
   "outputs": [],
   "source": []
  },
  {
   "cell_type": "code",
   "execution_count": null,
   "id": "e3b7c3e0-7393-467a-9673-0aab950b083a",
   "metadata": {},
   "outputs": [],
   "source": []
  },
  {
   "cell_type": "code",
   "execution_count": null,
   "id": "96bd39b0-9911-4e94-8c70-e6ee3d6f1ee0",
   "metadata": {},
   "outputs": [],
   "source": []
  },
  {
   "cell_type": "code",
   "execution_count": null,
   "id": "ee722035-c393-45d4-84fd-b95d5da996be",
   "metadata": {},
   "outputs": [],
   "source": []
  },
  {
   "cell_type": "code",
   "execution_count": null,
   "id": "57ed9265-fb0b-4f5b-a26b-12c780d77fd6",
   "metadata": {},
   "outputs": [],
   "source": []
  },
  {
   "cell_type": "code",
   "execution_count": null,
   "id": "823ea6d2-6359-411c-a548-229d3fafe787",
   "metadata": {},
   "outputs": [],
   "source": []
  }
 ],
 "metadata": {
  "kernelspec": {
   "display_name": "fintech-venv",
   "language": "python",
   "name": "python3"
  },
  "language_info": {
   "codemirror_mode": {
    "name": "ipython",
    "version": 3
   },
   "file_extension": ".py",
   "mimetype": "text/x-python",
   "name": "python",
   "nbconvert_exporter": "python",
   "pygments_lexer": "ipython3",
   "version": "3.12.3"
  },
  "widgets": {
   "application/vnd.jupyter.widget-state+json": {
    "state": {},
    "version_major": 2,
    "version_minor": 0
   }
  }
 },
 "nbformat": 4,
 "nbformat_minor": 5
}
