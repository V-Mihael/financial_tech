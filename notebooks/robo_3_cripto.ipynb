{
 "cells": [
  {
   "cell_type": "markdown",
   "id": "a163840e-c132-4b6f-9c39-4101caecd3e4",
   "metadata": {},
   "source": [
    "# Projeto 3: Robô BTC\n",
    "\n",
    "* Desafio: Como gerar sinais de compra e venda no Bitcoin?\n",
    "\n",
    "### Passo a passo:\n",
    "\n",
    "   **Passo 1** - Importar bibliotecas\n",
    "   \n",
    "   **Passo 2** - Pegar dados de cotação do Yahoo Finance\n",
    "   \n",
    "   **Passo 3** - Preparar e calcular dados importantes pro modelo\n",
    "   \n",
    "   **Passo 4** - Gerar sinais de compra\n",
    "   \n",
    "   **Passo 5** - Gerar sinais de venda\n",
    "\n",
    "   **Passo 6** - Gerar operações de compra e venda históricas\n",
    "   \n",
    "   **Passo 7** - Criar um ID para todos os trades históricos na tabela\n",
    "   \n",
    "   **Passo 8** - Calcular retornos do modelo\n",
    "\n",
    "\n",
    "\n",
    "   \n",
    "   <br>\n",
    "   \n",
    "   \n",
    "-------------------"
   ]
  },
  {
   "cell_type": "markdown",
   "id": "484dc475-1a1b-48c8-bed7-03f66106ba36",
   "metadata": {},
   "source": [
    "# Passo 1 - Importar as bibliotecas"
   ]
  },
  {
   "cell_type": "code",
   "execution_count": null,
   "id": "b0dc12ce-9040-4265-b36c-4203a7fea338",
   "metadata": {},
   "outputs": [],
   "source": [
    "import yfinance as yf\n",
    "import pandas as pd\n",
    "import matplotlib.pyplot as plt\n",
    "import mplcyberpunk\n",
    "plt.style.use(\"cyberpunk\")"
   ]
  },
  {
   "cell_type": "markdown",
   "id": "7e35e2c1-c4b1-4fce-82e4-39a1d8f3acf1",
   "metadata": {},
   "source": [
    "# Passo 2 - Pegar dados de cotação do Yahoo Finance"
   ]
  },
  {
   "cell_type": "code",
   "execution_count": null,
   "id": "aaeac69e-7b98-4c0c-8017-fc4fc963448f",
   "metadata": {},
   "outputs": [],
   "source": [
    "ticker = \"BTC-USD\""
   ]
  },
  {
   "cell_type": "code",
   "execution_count": null,
   "id": "3525d281-0dfa-424e-9940-3c08ca99097d",
   "metadata": {},
   "outputs": [],
   "source": [
    "dados = yf.download(ticker, auto_adjust = False)\n",
    "dados = dados.droplevel(1, axis = 1)\n",
    "dados"
   ]
  },
  {
   "cell_type": "markdown",
   "id": "ef10da59-0a6a-4edc-964d-67b08294852f",
   "metadata": {},
   "source": [
    "# Passo 3 - Preparar e calcular dados importantes pro modelo"
   ]
  },
  {
   "cell_type": "code",
   "execution_count": null,
   "id": "14a5b0d4-fdd0-46cd-9e4d-5044a00f5c66",
   "metadata": {},
   "outputs": [],
   "source": [
    "dados[\"retorno\"] = dados[\"Adj Close\"].pct_change()\n",
    "dados_retornos_completos = dados[\"retorno\"]"
   ]
  },
  {
   "cell_type": "code",
   "execution_count": null,
   "id": "5e6e13cb-37b5-4b6a-8b8d-80d28923e60b",
   "metadata": {},
   "outputs": [],
   "source": [
    "dados[\"media_maximas\"] = dados[\"High\"].rolling(window = 20).mean()\n",
    "dados[\"media_minimas\"] = dados[\"Low\"].rolling(window = 20).mean()"
   ]
  },
  {
   "cell_type": "markdown",
   "id": "1bdaffde-11d3-4191-9c16-29191e538d51",
   "metadata": {},
   "source": [
    "# Passo 4 - Gerar sinais de compra"
   ]
  },
  {
   "cell_type": "code",
   "execution_count": null,
   "id": "891f5015-c766-48f1-8554-2f72c838ca6c",
   "metadata": {},
   "outputs": [],
   "source": [
    "dados[\"sinal_compra\"] = 0\n",
    "dados[\"sinal_compra\"] = (dados[\"Close\"] > dados[\"media_maximas\"]).astype(int)"
   ]
  },
  {
   "cell_type": "markdown",
   "id": "3259867f-a961-400b-92f7-333496455a0f",
   "metadata": {},
   "source": [
    "# Passo 5 - Gerar sinais de venda"
   ]
  },
  {
   "cell_type": "code",
   "execution_count": null,
   "id": "fa5fc347-293c-4e12-a59f-56549b455465",
   "metadata": {},
   "outputs": [],
   "source": [
    "dados[\"sinal_venda\"] = 0\n",
    "dados[\"sinal_venda\"] = (dados[\"Close\"] < dados[\"media_minimas\"]).astype(int)"
   ]
  },
  {
   "cell_type": "markdown",
   "id": "4ff7cfbc-9748-4e1a-8753-dac80aa84459",
   "metadata": {},
   "source": [
    "# Passo 6 - Gerar operações"
   ]
  },
  {
   "cell_type": "code",
   "execution_count": null,
   "id": "b34819bf-0e64-43b7-b3a8-a18e862e6a10",
   "metadata": {},
   "outputs": [],
   "source": [
    "# Gerar posição: Compra no sinal de compra e zera no sinal de venda\n",
    "\n",
    "dados[\"posicao\"] = 0\n",
    "\n",
    "for i in range(1, len(dados)):\n",
    "\n",
    "    if dados['sinal_compra'].iloc[i] == 1:\n",
    "\n",
    "        dados[\"posicao\"].iloc[i] = 1\n",
    "\n",
    "    elif dados['sinal_venda'].iloc[i] == 1:\n",
    "\n",
    "        dados[\"posicao\"].iloc[i] = 0\n",
    "\n",
    "    else:\n",
    "\n",
    "        if (dados['posicao'].iloc[i-1] == 1) and (dados['sinal_venda'].iloc[i] == 0):\n",
    "\n",
    "            dados[\"posicao\"].iloc[i] = 1\n",
    "        \n",
    "        else:\n",
    "\n",
    "            dados[\"posicao\"].iloc[i] = 0"
   ]
  },
  {
   "cell_type": "code",
   "execution_count": null,
   "id": "bcb76e49-42df-4f98-aa45-3008ef9edeac",
   "metadata": {},
   "outputs": [],
   "source": [
    "dados[\"posicao\"] = dados[\"posicao\"].shift()"
   ]
  },
  {
   "cell_type": "markdown",
   "id": "f33412bd-6e8b-4aef-9097-67c22258f5ce",
   "metadata": {},
   "source": [
    "# Passo 7 - Criar um ID para todos os trades históricos na tabela\n",
    "\n",
    "* Nosso objetivo é conseguir agrupar todos os trades através de um ID"
   ]
  },
  {
   "cell_type": "code",
   "execution_count": null,
   "id": "8e51ebd9-96ba-4f12-beed-ecc6b8248f88",
   "metadata": {},
   "outputs": [],
   "source": [
    "dados['trades'] = (dados['posicao'] != dados['posicao'].shift()).cumsum() \n",
    "\n",
    "dados['trades'] = dados['trades'].where(dados['posicao'] == 1) #só interessado nos IDs quando estávamos comprados \n",
    "\n",
    "dados = dados.dropna(subset = \"trades\")"
   ]
  },
  {
   "cell_type": "markdown",
   "id": "f2171b82-5079-46c9-91f2-2a0ce05615ab",
   "metadata": {},
   "source": [
    "# Passo 8 - Calcular retornos de todos os trades"
   ]
  },
  {
   "cell_type": "code",
   "execution_count": null,
   "id": "76dddab9-6c2f-42c4-ae55-9383f636007c",
   "metadata": {},
   "outputs": [],
   "source": [
    "df_retorno_acumulado = (1 + dados[\"retorno\"]).cumprod() - 1\n",
    "dados_retornos_completos_acum = (1 + dados_retornos_completos).cumprod() - 1\n",
    "dados_retornos_completos_acum.plot(label = \"Ativo\")\n",
    "df_retorno_acumulado.plot(label = \"Modelo\")\n",
    "plt.legend()"
   ]
  },
  {
   "cell_type": "code",
   "execution_count": null,
   "id": "d7321c66-aa97-4678-8ff1-d08ae4540340",
   "metadata": {},
   "outputs": [],
   "source": [
    "print(df_retorno_acumulado.iloc[-1], dados_retornos_completos_acum.iloc[-1])"
   ]
  },
  {
   "cell_type": "code",
   "execution_count": null,
   "id": "0706a0fc-d12d-427e-ab9d-ea7ed7645200",
   "metadata": {},
   "outputs": [],
   "source": []
  },
  {
   "cell_type": "code",
   "execution_count": null,
   "id": "4abe9a00-c336-4328-8b9e-696678a58f77",
   "metadata": {},
   "outputs": [],
   "source": []
  },
  {
   "cell_type": "code",
   "execution_count": null,
   "id": "88c7e7c9-a7d3-4a9b-9939-685d94395be4",
   "metadata": {},
   "outputs": [],
   "source": []
  },
  {
   "cell_type": "code",
   "execution_count": null,
   "id": "8f0ee4b7-97d6-4b17-9577-8652020cadbf",
   "metadata": {},
   "outputs": [],
   "source": []
  },
  {
   "cell_type": "code",
   "execution_count": null,
   "id": "e2703f45-a06c-477b-9ce7-abc56ce7180a",
   "metadata": {},
   "outputs": [],
   "source": []
  }
 ],
 "metadata": {
  "kernelspec": {
   "display_name": "Python 3 (ipykernel)",
   "language": "python",
   "name": "python3"
  },
  "language_info": {
   "codemirror_mode": {
    "name": "ipython",
    "version": 3
   },
   "file_extension": ".py",
   "mimetype": "text/x-python",
   "name": "python",
   "nbconvert_exporter": "python",
   "pygments_lexer": "ipython3",
   "version": "3.11.7"
  },
  "widgets": {
   "application/vnd.jupyter.widget-state+json": {
    "state": {},
    "version_major": 2,
    "version_minor": 0
   }
  }
 },
 "nbformat": 4,
 "nbformat_minor": 5
}
